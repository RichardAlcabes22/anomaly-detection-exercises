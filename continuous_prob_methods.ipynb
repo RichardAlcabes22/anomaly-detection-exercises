{
 "cells": [
  {
   "cell_type": "code",
   "execution_count": 1,
   "id": "784f0402",
   "metadata": {},
   "outputs": [],
   "source": [
    "url = \"https://gist.githubusercontent.com/ryanorsinger/19bc7eccd6279661bd13307026628ace/raw/e4b5d6787015a4782f96cad6d1d62a8bdbac54c7/lemonade.csv\""
   ]
  },
  {
   "cell_type": "code",
   "execution_count": 24,
   "id": "de865b2f",
   "metadata": {},
   "outputs": [],
   "source": [
    "import pandas as pd\n",
    "import numpy as np\n",
    "import matplotlib.pyplot as plt"
   ]
  },
  {
   "cell_type": "code",
   "execution_count": 3,
   "id": "c7b31f2f",
   "metadata": {},
   "outputs": [],
   "source": [
    "df_raw = pd.read_csv(url,index_col='Date')"
   ]
  },
  {
   "cell_type": "code",
   "execution_count": 4,
   "id": "fabd634e",
   "metadata": {},
   "outputs": [
    {
     "data": {
      "text/html": [
       "<div>\n",
       "<style scoped>\n",
       "    .dataframe tbody tr th:only-of-type {\n",
       "        vertical-align: middle;\n",
       "    }\n",
       "\n",
       "    .dataframe tbody tr th {\n",
       "        vertical-align: top;\n",
       "    }\n",
       "\n",
       "    .dataframe thead th {\n",
       "        text-align: right;\n",
       "    }\n",
       "</style>\n",
       "<table border=\"1\" class=\"dataframe\">\n",
       "  <thead>\n",
       "    <tr style=\"text-align: right;\">\n",
       "      <th></th>\n",
       "      <th>Day</th>\n",
       "      <th>Temperature</th>\n",
       "      <th>Rainfall</th>\n",
       "      <th>Flyers</th>\n",
       "      <th>Price</th>\n",
       "      <th>Sales</th>\n",
       "    </tr>\n",
       "    <tr>\n",
       "      <th>Date</th>\n",
       "      <th></th>\n",
       "      <th></th>\n",
       "      <th></th>\n",
       "      <th></th>\n",
       "      <th></th>\n",
       "      <th></th>\n",
       "    </tr>\n",
       "  </thead>\n",
       "  <tbody>\n",
       "    <tr>\n",
       "      <th>1/1/17</th>\n",
       "      <td>Sunday</td>\n",
       "      <td>27.0</td>\n",
       "      <td>2.00</td>\n",
       "      <td>15</td>\n",
       "      <td>0.5</td>\n",
       "      <td>10</td>\n",
       "    </tr>\n",
       "    <tr>\n",
       "      <th>1/2/17</th>\n",
       "      <td>Monday</td>\n",
       "      <td>28.9</td>\n",
       "      <td>1.33</td>\n",
       "      <td>15</td>\n",
       "      <td>0.5</td>\n",
       "      <td>13</td>\n",
       "    </tr>\n",
       "    <tr>\n",
       "      <th>1/3/17</th>\n",
       "      <td>Tuesday</td>\n",
       "      <td>34.5</td>\n",
       "      <td>1.33</td>\n",
       "      <td>27</td>\n",
       "      <td>0.5</td>\n",
       "      <td>15</td>\n",
       "    </tr>\n",
       "    <tr>\n",
       "      <th>1/4/17</th>\n",
       "      <td>Wednesday</td>\n",
       "      <td>44.1</td>\n",
       "      <td>1.05</td>\n",
       "      <td>28</td>\n",
       "      <td>0.5</td>\n",
       "      <td>17</td>\n",
       "    </tr>\n",
       "    <tr>\n",
       "      <th>1/5/17</th>\n",
       "      <td>Thursday</td>\n",
       "      <td>42.4</td>\n",
       "      <td>1.00</td>\n",
       "      <td>33</td>\n",
       "      <td>0.5</td>\n",
       "      <td>18</td>\n",
       "    </tr>\n",
       "  </tbody>\n",
       "</table>\n",
       "</div>"
      ],
      "text/plain": [
       "              Day  Temperature  Rainfall  Flyers  Price  Sales\n",
       "Date                                                          \n",
       "1/1/17     Sunday         27.0      2.00      15    0.5     10\n",
       "1/2/17     Monday         28.9      1.33      15    0.5     13\n",
       "1/3/17    Tuesday         34.5      1.33      27    0.5     15\n",
       "1/4/17  Wednesday         44.1      1.05      28    0.5     17\n",
       "1/5/17   Thursday         42.4      1.00      33    0.5     18"
      ]
     },
     "execution_count": 4,
     "metadata": {},
     "output_type": "execute_result"
    }
   ],
   "source": [
    "df_raw.head()"
   ]
  },
  {
   "cell_type": "code",
   "execution_count": 5,
   "id": "001c37b1",
   "metadata": {},
   "outputs": [],
   "source": [
    "# lower case and underscores for everyone:\n",
    "df_raw.columns = [col.lower().replace('.','_') for col in df_raw.columns]"
   ]
  },
  {
   "cell_type": "code",
   "execution_count": 6,
   "id": "d58743c0",
   "metadata": {
    "scrolled": true
   },
   "outputs": [
    {
     "name": "stdout",
     "output_type": "stream",
     "text": [
      "<class 'pandas.core.frame.DataFrame'>\n",
      "Index: 365 entries, 1/1/17 to 12/31/17\n",
      "Data columns (total 6 columns):\n",
      " #   Column       Non-Null Count  Dtype  \n",
      "---  ------       --------------  -----  \n",
      " 0   day          365 non-null    object \n",
      " 1   temperature  365 non-null    float64\n",
      " 2   rainfall     365 non-null    float64\n",
      " 3   flyers       365 non-null    int64  \n",
      " 4   price        365 non-null    float64\n",
      " 5   sales        365 non-null    int64  \n",
      "dtypes: float64(3), int64(2), object(1)\n",
      "memory usage: 20.0+ KB\n"
     ]
    }
   ],
   "source": [
    "df_raw.info()"
   ]
  },
  {
   "cell_type": "code",
   "execution_count": 8,
   "id": "ebd28b3d",
   "metadata": {},
   "outputs": [],
   "source": [
    "df = df_raw.drop(columns=['day'])"
   ]
  },
  {
   "cell_type": "code",
   "execution_count": 9,
   "id": "2f1d4eff",
   "metadata": {},
   "outputs": [
    {
     "data": {
      "text/html": [
       "<div>\n",
       "<style scoped>\n",
       "    .dataframe tbody tr th:only-of-type {\n",
       "        vertical-align: middle;\n",
       "    }\n",
       "\n",
       "    .dataframe tbody tr th {\n",
       "        vertical-align: top;\n",
       "    }\n",
       "\n",
       "    .dataframe thead th {\n",
       "        text-align: right;\n",
       "    }\n",
       "</style>\n",
       "<table border=\"1\" class=\"dataframe\">\n",
       "  <thead>\n",
       "    <tr style=\"text-align: right;\">\n",
       "      <th></th>\n",
       "      <th>temperature</th>\n",
       "      <th>rainfall</th>\n",
       "      <th>flyers</th>\n",
       "      <th>price</th>\n",
       "      <th>sales</th>\n",
       "    </tr>\n",
       "    <tr>\n",
       "      <th>Date</th>\n",
       "      <th></th>\n",
       "      <th></th>\n",
       "      <th></th>\n",
       "      <th></th>\n",
       "      <th></th>\n",
       "    </tr>\n",
       "  </thead>\n",
       "  <tbody>\n",
       "    <tr>\n",
       "      <th>1/1/17</th>\n",
       "      <td>27.0</td>\n",
       "      <td>2.00</td>\n",
       "      <td>15</td>\n",
       "      <td>0.5</td>\n",
       "      <td>10</td>\n",
       "    </tr>\n",
       "    <tr>\n",
       "      <th>1/2/17</th>\n",
       "      <td>28.9</td>\n",
       "      <td>1.33</td>\n",
       "      <td>15</td>\n",
       "      <td>0.5</td>\n",
       "      <td>13</td>\n",
       "    </tr>\n",
       "    <tr>\n",
       "      <th>1/3/17</th>\n",
       "      <td>34.5</td>\n",
       "      <td>1.33</td>\n",
       "      <td>27</td>\n",
       "      <td>0.5</td>\n",
       "      <td>15</td>\n",
       "    </tr>\n",
       "    <tr>\n",
       "      <th>1/4/17</th>\n",
       "      <td>44.1</td>\n",
       "      <td>1.05</td>\n",
       "      <td>28</td>\n",
       "      <td>0.5</td>\n",
       "      <td>17</td>\n",
       "    </tr>\n",
       "    <tr>\n",
       "      <th>1/5/17</th>\n",
       "      <td>42.4</td>\n",
       "      <td>1.00</td>\n",
       "      <td>33</td>\n",
       "      <td>0.5</td>\n",
       "      <td>18</td>\n",
       "    </tr>\n",
       "  </tbody>\n",
       "</table>\n",
       "</div>"
      ],
      "text/plain": [
       "        temperature  rainfall  flyers  price  sales\n",
       "Date                                               \n",
       "1/1/17         27.0      2.00      15    0.5     10\n",
       "1/2/17         28.9      1.33      15    0.5     13\n",
       "1/3/17         34.5      1.33      27    0.5     15\n",
       "1/4/17         44.1      1.05      28    0.5     17\n",
       "1/5/17         42.4      1.00      33    0.5     18"
      ]
     },
     "execution_count": 9,
     "metadata": {},
     "output_type": "execute_result"
    }
   ],
   "source": [
    "df.head()"
   ]
  },
  {
   "cell_type": "code",
   "execution_count": null,
   "id": "af513d09",
   "metadata": {},
   "outputs": [],
   "source": []
  },
  {
   "cell_type": "code",
   "execution_count": 10,
   "id": "2ef91b5d",
   "metadata": {},
   "outputs": [],
   "source": [
    "def get_fences(df, col, k=1.5):\n",
    "    '''\n",
    "    get_fences takes in a dataframe and a string literal\n",
    "    df, a pandas dataframe\n",
    "    k, an integer representing the fence for our method\n",
    "    col, a string literal represening a column name\n",
    "    returns the lower and upper fences of a series\n",
    "    '''\n",
    "    q1 = df[col].quantile(.25)\n",
    "    q3 = df[col].quantile(.75)\n",
    "    iqr = q3 - q1\n",
    "    lower_fence = q1 - iqr*k\n",
    "    upper_fence = q3 + iqr*k\n",
    "    return lower_fence, upper_fence"
   ]
  },
  {
   "cell_type": "code",
   "execution_count": 13,
   "id": "a1106845",
   "metadata": {},
   "outputs": [],
   "source": [
    "my_fences = {}\n",
    "for col in df.columns:\n",
    "    my_fences[col] = get_fences(df,col,k=1.5)"
   ]
  },
  {
   "cell_type": "code",
   "execution_count": 16,
   "id": "9b5a4dec",
   "metadata": {},
   "outputs": [
    {
     "data": {
      "text/html": [
       "<div>\n",
       "<style scoped>\n",
       "    .dataframe tbody tr th:only-of-type {\n",
       "        vertical-align: middle;\n",
       "    }\n",
       "\n",
       "    .dataframe tbody tr th {\n",
       "        vertical-align: top;\n",
       "    }\n",
       "\n",
       "    .dataframe thead th {\n",
       "        text-align: right;\n",
       "    }\n",
       "</style>\n",
       "<table border=\"1\" class=\"dataframe\">\n",
       "  <thead>\n",
       "    <tr style=\"text-align: right;\">\n",
       "      <th></th>\n",
       "      <th>count</th>\n",
       "      <th>mean</th>\n",
       "      <th>std</th>\n",
       "      <th>min</th>\n",
       "      <th>25%</th>\n",
       "      <th>50%</th>\n",
       "      <th>75%</th>\n",
       "      <th>max</th>\n",
       "    </tr>\n",
       "  </thead>\n",
       "  <tbody>\n",
       "    <tr>\n",
       "      <th>temperature</th>\n",
       "      <td>365.0</td>\n",
       "      <td>61.224658</td>\n",
       "      <td>18.085892</td>\n",
       "      <td>15.1</td>\n",
       "      <td>49.70</td>\n",
       "      <td>61.10</td>\n",
       "      <td>71.70</td>\n",
       "      <td>212.0</td>\n",
       "    </tr>\n",
       "    <tr>\n",
       "      <th>rainfall</th>\n",
       "      <td>365.0</td>\n",
       "      <td>0.825973</td>\n",
       "      <td>0.273890</td>\n",
       "      <td>0.4</td>\n",
       "      <td>0.65</td>\n",
       "      <td>0.74</td>\n",
       "      <td>0.91</td>\n",
       "      <td>2.5</td>\n",
       "    </tr>\n",
       "    <tr>\n",
       "      <th>flyers</th>\n",
       "      <td>365.0</td>\n",
       "      <td>40.104110</td>\n",
       "      <td>13.786445</td>\n",
       "      <td>-38.0</td>\n",
       "      <td>31.00</td>\n",
       "      <td>39.00</td>\n",
       "      <td>49.00</td>\n",
       "      <td>80.0</td>\n",
       "    </tr>\n",
       "    <tr>\n",
       "      <th>price</th>\n",
       "      <td>365.0</td>\n",
       "      <td>0.500000</td>\n",
       "      <td>0.000000</td>\n",
       "      <td>0.5</td>\n",
       "      <td>0.50</td>\n",
       "      <td>0.50</td>\n",
       "      <td>0.50</td>\n",
       "      <td>0.5</td>\n",
       "    </tr>\n",
       "    <tr>\n",
       "      <th>sales</th>\n",
       "      <td>365.0</td>\n",
       "      <td>27.865753</td>\n",
       "      <td>30.948132</td>\n",
       "      <td>7.0</td>\n",
       "      <td>20.00</td>\n",
       "      <td>25.00</td>\n",
       "      <td>30.00</td>\n",
       "      <td>534.0</td>\n",
       "    </tr>\n",
       "  </tbody>\n",
       "</table>\n",
       "</div>"
      ],
      "text/plain": [
       "             count       mean        std   min    25%    50%    75%    max\n",
       "temperature  365.0  61.224658  18.085892  15.1  49.70  61.10  71.70  212.0\n",
       "rainfall     365.0   0.825973   0.273890   0.4   0.65   0.74   0.91    2.5\n",
       "flyers       365.0  40.104110  13.786445 -38.0  31.00  39.00  49.00   80.0\n",
       "price        365.0   0.500000   0.000000   0.5   0.50   0.50   0.50    0.5\n",
       "sales        365.0  27.865753  30.948132   7.0  20.00  25.00  30.00  534.0"
      ]
     },
     "execution_count": 16,
     "metadata": {},
     "output_type": "execute_result"
    }
   ],
   "source": [
    "df.describe().T"
   ]
  },
  {
   "cell_type": "code",
   "execution_count": 14,
   "id": "e7c794e6",
   "metadata": {},
   "outputs": [
    {
     "name": "stdout",
     "output_type": "stream",
     "text": [
      "For feature temperature\n",
      "          temperature  rainfall  flyers  price  sales\n",
      "Date                                                 \n",
      "2/11/17         212.0      0.91      35    0.5     21\n",
      "12/31/17         15.1      2.50       9    0.5      7\n",
      "========================\n",
      "For feature rainfall\n",
      "          temperature  rainfall  flyers  price  sales\n",
      "Date                                                 \n",
      "1/1/17           27.0      2.00      15    0.5     10\n",
      "1/2/17           28.9      1.33      15    0.5     13\n",
      "1/3/17           34.5      1.33      27    0.5     15\n",
      "1/6/17           25.3      1.54      23    0.5     11\n",
      "1/7/17           32.9      1.54      19    0.5     13\n",
      "1/11/17          32.6      1.54      23    0.5     12\n",
      "1/12/17          38.2      1.33      16    0.5     14\n",
      "1/13/17          37.5      1.33      19    0.5     15\n",
      "1/16/17          30.6      1.67      24    0.5     12\n",
      "1/17/17          32.2      1.43      26    0.5     14\n",
      "1/20/17          31.6      1.43      20    0.5     12\n",
      "1/24/17          28.6      1.54      20    0.5     12\n",
      "1/28/17          34.9      1.33      15    0.5     13\n",
      "1/29/17          35.2      1.33      27    0.5     14\n",
      "12/4/17          34.9      1.54      16    0.5     13\n",
      "12/5/17          22.0      1.82      11    0.5     10\n",
      "12/9/17          31.2      1.43      19    0.5     14\n",
      "12/10/17         31.3      1.82      15    0.5     11\n",
      "12/12/17         33.5      1.33      22    0.5     15\n",
      "12/13/17         32.2      1.43      26    0.5     14\n",
      "12/14/17         31.9      1.54      24    0.5     13\n",
      "12/17/17         32.2      1.33      16    0.5     14\n",
      "12/18/17         30.9      1.43      27    0.5     13\n",
      "12/21/17         40.5      1.33      23    0.5     15\n",
      "12/22/17         30.9      1.54      17    0.5     13\n",
      "12/26/17         28.9      1.43      23    0.5     13\n",
      "12/30/17         30.9      1.43      22    0.5     13\n",
      "12/31/17         15.1      2.50       9    0.5      7\n",
      "========================\n",
      "For feature flyers\n",
      "          temperature  rainfall  flyers  price  sales\n",
      "Date                                                 \n",
      "6/16/17          99.3      0.47      77    0.5     41\n",
      "7/14/17          92.0      0.50      80    0.5     40\n",
      "11/21/17         47.0      0.95     -38    0.5     20\n",
      "========================\n",
      "For feature price\n",
      "Empty DataFrame\n",
      "Columns: [temperature, rainfall, flyers, price, sales]\n",
      "Index: []\n",
      "========================\n",
      "For feature sales\n",
      "        temperature  rainfall  flyers  price  sales\n",
      "Date                                               \n",
      "7/1/17        102.9      0.47      59    0.5    143\n",
      "7/2/17         93.4      0.51      68    0.5    158\n",
      "7/3/17         81.5      0.54      68    0.5    235\n",
      "7/4/17         84.2      0.59      49    0.5    534\n",
      "========================\n"
     ]
    }
   ],
   "source": [
    "for col in df:\n",
    "    print(f'For feature {col}')\n",
    "    print(df[\n",
    "    (df[col] < my_fences[col][0]) \\\n",
    "    | (df[col] > my_fences[col][1])])\n",
    "    print('========================')"
   ]
  },
  {
   "cell_type": "markdown",
   "id": "075c8df2",
   "metadata": {},
   "source": [
    "### 1a. lower outlier for 'flyers' of -38...suspect input error...investigate"
   ]
  },
  {
   "cell_type": "markdown",
   "id": "749ed8b6",
   "metadata": {},
   "source": [
    "### 1b. upper outlier for 'temperature' of 212.0...suspect input error...investigate\n",
    "###  maybe sales upper outliers of 235 and 534 should be investigated"
   ]
  },
  {
   "cell_type": "code",
   "execution_count": 17,
   "id": "2c6e0481",
   "metadata": {},
   "outputs": [],
   "source": [
    "my_fences = {}\n",
    "for col in df.columns:\n",
    "    my_fences[col] = get_fences(df,col,k=3)"
   ]
  },
  {
   "cell_type": "code",
   "execution_count": 18,
   "id": "b3b5305c",
   "metadata": {},
   "outputs": [
    {
     "name": "stdout",
     "output_type": "stream",
     "text": [
      "For feature temperature\n",
      "         temperature  rainfall  flyers  price  sales\n",
      "Date                                                \n",
      "2/11/17        212.0      0.91      35    0.5     21\n",
      "========================\n",
      "For feature rainfall\n",
      "          temperature  rainfall  flyers  price  sales\n",
      "Date                                                 \n",
      "1/1/17           27.0      2.00      15    0.5     10\n",
      "12/5/17          22.0      1.82      11    0.5     10\n",
      "12/10/17         31.3      1.82      15    0.5     11\n",
      "12/31/17         15.1      2.50       9    0.5      7\n",
      "========================\n",
      "For feature flyers\n",
      "          temperature  rainfall  flyers  price  sales\n",
      "Date                                                 \n",
      "11/21/17         47.0      0.95     -38    0.5     20\n",
      "========================\n",
      "For feature price\n",
      "Empty DataFrame\n",
      "Columns: [temperature, rainfall, flyers, price, sales]\n",
      "Index: []\n",
      "========================\n",
      "For feature sales\n",
      "        temperature  rainfall  flyers  price  sales\n",
      "Date                                               \n",
      "7/1/17        102.9      0.47      59    0.5    143\n",
      "7/2/17         93.4      0.51      68    0.5    158\n",
      "7/3/17         81.5      0.54      68    0.5    235\n",
      "7/4/17         84.2      0.59      49    0.5    534\n",
      "========================\n"
     ]
    }
   ],
   "source": [
    "for col in df:\n",
    "    print(f'For feature {col}')\n",
    "    print(df[\n",
    "    (df[col] < my_fences[col][0]) \\\n",
    "    | (df[col] > my_fences[col][1])])\n",
    "    print('========================')"
   ]
  },
  {
   "cell_type": "markdown",
   "id": "12800a0c",
   "metadata": {},
   "source": [
    "### 1c. again...lower outlier for 'flyers' of -38...suspect input error...investigate"
   ]
  },
  {
   "cell_type": "markdown",
   "id": "5397f126",
   "metadata": {},
   "source": [
    "### 1d. again...upper outlier for 'temperature' of 212.0...suspect input error...investigate\n",
    "###  maybe sales upper outliers of 235 and 534 should be investigated"
   ]
  },
  {
   "cell_type": "code",
   "execution_count": null,
   "id": "aed7049c",
   "metadata": {},
   "outputs": [],
   "source": []
  },
  {
   "cell_type": "code",
   "execution_count": 34,
   "id": "4fb86429",
   "metadata": {},
   "outputs": [],
   "source": [
    "# plotting defaults\n",
    "plt.rc('figure', figsize=(4, 2))\n",
    "plt.style.use('seaborn-whitegrid')\n",
    "plt.rc('font', size=8)"
   ]
  },
  {
   "cell_type": "code",
   "execution_count": 36,
   "id": "338509ed",
   "metadata": {},
   "outputs": [
    {
     "data": {
      "image/png": "[encoded data removed]",
      "text/plain": [
       "<Figure size 400x200 with 1 Axes>"
      ]
     },
     "metadata": {},
     "output_type": "display_data"
    },
    {
     "data": {
      "image/png": "[encoded data removed]",
      "text/plain": [
       "<Figure size 400x200 with 1 Axes>"
      ]
     },
     "metadata": {},
     "output_type": "display_data"
    },
    {
     "data": {
      "image/png": "[encoded data removed]",
      "text/plain": [
       "<Figure size 400x200 with 1 Axes>"
      ]
     },
     "metadata": {},
     "output_type": "display_data"
    },
    {
     "data": {
      "image/png": "[encoded data removed]",
      "text/plain": [
       "<Figure size 400x200 with 1 Axes>"
      ]
     },
     "metadata": {},
     "output_type": "display_data"
    },
    {
     "data": {
      "image/png": "[encoded data removed]",
      "text/plain": [
       "<Figure size 400x200 with 1 Axes>"
      ]
     },
     "metadata": {},
     "output_type": "display_data"
    }
   ],
   "source": [
    "# brief visual analysis:\n",
    "for col in df:\n",
    "    df[col].hist(bins=50)\n",
    "    plt.title(f'Distribution of {col}')\n",
    "    plt.show()"
   ]
  },
  {
   "cell_type": "code",
   "execution_count": null,
   "id": "2627947c",
   "metadata": {},
   "outputs": [],
   "source": []
  },
  {
   "cell_type": "code",
   "execution_count": null,
   "id": "af8b64af",
   "metadata": {},
   "outputs": [],
   "source": []
  },
  {
   "cell_type": "code",
   "execution_count": 38,
   "id": "019e7869",
   "metadata": {
    "scrolled": true
   },
   "outputs": [
    {
     "name": "stdout",
     "output_type": "stream",
     "text": [
      " For Column temperature\n",
      "Date         2/11/17  6/16/17  6/26/17  7/1/17  7/10/17  7/18/17  7/22/17  \\\n",
      "temperature   212.00    99.30   102.60  102.90    98.00    99.30    99.60   \n",
      "rainfall        0.91     0.47     0.47    0.47     0.49     0.47     0.47   \n",
      "flyers         35.00    77.00    60.00   59.00    66.00    76.00    49.00   \n",
      "price           0.50     0.50     0.50    0.50     0.50     0.50     0.50   \n",
      "sales          21.00    41.00    42.00  143.00    40.00    41.00    42.00   \n",
      "\n",
      "Date         7/27/17  12/5/17  12/31/17  \n",
      "temperature    97.90    22.00      15.1  \n",
      "rainfall        0.47     1.82       2.5  \n",
      "flyers         74.00    11.00       9.0  \n",
      "price           0.50     0.50       0.5  \n",
      "sales          43.00    10.00       7.0  \n",
      "=============\n",
      " For Column rainfall\n",
      "Date         1/1/17  1/6/17  1/7/17  1/11/17  1/16/17  1/17/17  1/20/17  \\\n",
      "temperature    27.0   25.30   32.90    32.60    30.60    32.20    31.60   \n",
      "rainfall        2.0    1.54    1.54     1.54     1.67     1.43     1.43   \n",
      "flyers         15.0   23.00   19.00    23.00    24.00    26.00    20.00   \n",
      "price           0.5    0.50    0.50     0.50     0.50     0.50     0.50   \n",
      "sales          10.0   11.00   13.00    12.00    12.00    14.00    12.00   \n",
      "\n",
      "Date         1/24/17  12/4/17  12/5/17  12/9/17  12/10/17  12/13/17  12/14/17  \\\n",
      "temperature    28.60    34.90    22.00    31.20     31.30     32.20     31.90   \n",
      "rainfall        1.54     1.54     1.82     1.43      1.82      1.43      1.54   \n",
      "flyers         20.00    16.00    11.00    19.00     15.00     26.00     24.00   \n",
      "price           0.50     0.50     0.50     0.50      0.50      0.50      0.50   \n",
      "sales          12.00    13.00    10.00    14.00     11.00     14.00     13.00   \n",
      "\n",
      "Date         12/18/17  12/22/17  12/26/17  12/30/17  12/31/17  \n",
      "temperature     30.90     30.90     28.90     30.90      15.1  \n",
      "rainfall         1.43      1.54      1.43      1.43       2.5  \n",
      "flyers          27.00     17.00     23.00     22.00       9.0  \n",
      "price            0.50      0.50      0.50      0.50       0.5  \n",
      "sales           13.00     13.00     13.00     13.00       7.0  \n",
      "=============\n",
      " For Column flyers\n",
      "Date         6/16/17  6/20/17  6/21/17  7/2/17  7/3/17  7/14/17  7/18/17  \\\n",
      "temperature    99.30    85.10    94.30   93.40   81.50     92.0    99.30   \n",
      "rainfall        0.47     0.54     0.47    0.51    0.54      0.5     0.47   \n",
      "flyers         77.00    70.00    76.00   68.00   68.00     80.0    76.00   \n",
      "price           0.50     0.50     0.50    0.50    0.50      0.5     0.50   \n",
      "sales          41.00    37.00    41.00  158.00  235.00     40.0    41.00   \n",
      "\n",
      "Date         7/23/17  7/24/17  7/27/17  11/21/17  12/5/17  12/31/17  \n",
      "temperature    89.10    83.50    97.90     47.00    22.00      15.1  \n",
      "rainfall        0.51     0.57     0.47      0.95     1.82       2.5  \n",
      "flyers         72.00    69.00    74.00    -38.00    11.00       9.0  \n",
      "price           0.50     0.50     0.50      0.50     0.50       0.5  \n",
      "sales          37.00    35.00    43.00     20.00    10.00       7.0  \n",
      "=============\n",
      " For Column price\n",
      "Empty DataFrame\n",
      "Columns: []\n",
      "Index: [temperature, rainfall, flyers, price, sales]\n",
      "=============\n",
      " For Column sales\n",
      "Date         7/1/17  7/2/17  7/3/17  7/4/17\n",
      "temperature  102.90   93.40   81.50   84.20\n",
      "rainfall       0.47    0.51    0.54    0.59\n",
      "flyers        59.00   68.00   68.00   49.00\n",
      "price          0.50    0.50    0.50    0.50\n",
      "sales        143.00  158.00  235.00  534.00\n",
      "=============\n"
     ]
    }
   ],
   "source": [
    "# getting z for multiple columns\n",
    "for col in df.columns:\n",
    "    print(f' For Column {col}')\n",
    "    print(df[(((\n",
    "    df[col] - df[col].mean()\n",
    ")/ df[col].std()) > 2) | (((\n",
    "    df[col] - df[col].mean()\n",
    ")/ df[col].std()) < -2)].T)\n",
    "    print('=============')"
   ]
  },
  {
   "cell_type": "markdown",
   "id": "c6a20457",
   "metadata": {},
   "source": [
    "### 2. same conclusion as earlier..investigate the \"TEMPAERATURE\" input error of 212.0 the others are plausible values\n",
    "###  again, investigate \"FLYERS\" of -38 input error\n",
    "### again, investigate reasons behind \"SALES\" values over 200..."
   ]
  },
  {
   "cell_type": "markdown",
   "id": "332665d7",
   "metadata": {},
   "source": []
  },
  {
   "cell_type": "code",
   "execution_count": 39,
   "id": "3fac3a34",
   "metadata": {},
   "outputs": [
    {
     "name": "stdout",
     "output_type": "stream",
     "text": [
      " For Column temperature\n",
      "Date         2/11/17\n",
      "temperature   212.00\n",
      "rainfall        0.91\n",
      "flyers         35.00\n",
      "price           0.50\n",
      "sales          21.00\n",
      "=============\n",
      " For Column rainfall\n",
      "Date         1/1/17  1/16/17  12/5/17  12/10/17  12/31/17\n",
      "temperature    27.0    30.60    22.00     31.30      15.1\n",
      "rainfall        2.0     1.67     1.82      1.82       2.5\n",
      "flyers         15.0    24.00    11.00     15.00       9.0\n",
      "price           0.5     0.50     0.50      0.50       0.5\n",
      "sales          10.0    12.00    10.00     11.00       7.0\n",
      "=============\n",
      " For Column flyers\n",
      "Date         11/21/17\n",
      "temperature     47.00\n",
      "rainfall         0.95\n",
      "flyers         -38.00\n",
      "price            0.50\n",
      "sales           20.00\n",
      "=============\n",
      " For Column price\n",
      "Empty DataFrame\n",
      "Columns: []\n",
      "Index: [temperature, rainfall, flyers, price, sales]\n",
      "=============\n",
      " For Column sales\n",
      "Date         7/1/17  7/2/17  7/3/17  7/4/17\n",
      "temperature  102.90   93.40   81.50   84.20\n",
      "rainfall       0.47    0.51    0.54    0.59\n",
      "flyers        59.00   68.00   68.00   49.00\n",
      "price          0.50    0.50    0.50    0.50\n",
      "sales        143.00  158.00  235.00  534.00\n",
      "=============\n"
     ]
    }
   ],
   "source": [
    "# 3 Standard deviations away...\n",
    "# getting z for multiple columns\n",
    "for col in df.columns:\n",
    "    print(f' For Column {col}')\n",
    "    print(df[(((\n",
    "    df[col] - df[col].mean()\n",
    ")/ df[col].std()) > 3) | (((\n",
    "    df[col] - df[col].mean()\n",
    ")/ df[col].std()) < -3)].T)\n",
    "    print('=============')"
   ]
  },
  {
   "cell_type": "markdown",
   "id": "831d813c",
   "metadata": {},
   "source": [
    "### 3. same conclusion as earlier..investigate the \"TEMPAERATURE\" input error of 212.0 the others are plausible values\n",
    "###  again, investigate \"FLYERS\" of -38 input error\n",
    "### again, investigate reasons behind \"SALES\" values over 200...\n",
    "\n",
    "## without getting the context of the values, it is not good to summarily dismiss or permit outliers...need the context and the reasoning to sniff out input errors, measurement error, and other human-cenntric errors."
   ]
  },
  {
   "cell_type": "code",
   "execution_count": null,
   "id": "57122853",
   "metadata": {},
   "outputs": [],
   "source": []
  },
  {
   "cell_type": "code",
   "execution_count": null,
   "id": "8b35f4d2",
   "metadata": {},
   "outputs": [],
   "source": []
  },
  {
   "cell_type": "code",
   "execution_count": null,
   "id": "9a546a78",
   "metadata": {},
   "outputs": [],
   "source": []
  },
  {
   "cell_type": "code",
   "execution_count": null,
   "id": "41d6dbb9",
   "metadata": {},
   "outputs": [],
   "source": []
  },
  {
   "cell_type": "code",
   "execution_count": null,
   "id": "f87a9b33",
   "metadata": {},
   "outputs": [],
   "source": []
  },
  {
   "cell_type": "code",
   "execution_count": null,
   "id": "bbd0ece7",
   "metadata": {},
   "outputs": [],
   "source": []
  }
 ],
 "metadata": {
  "kernelspec": {
   "display_name": "Python 3 (ipykernel)",
   "language": "python",
   "name": "python3"
  },
  "language_info": {
   "codemirror_mode": {
    "name": "ipython",
    "version": 3
   },
   "file_extension": ".py",
   "mimetype": "text/x-python",
   "name": "python",
   "nbconvert_exporter": "python",
   "pygments_lexer": "ipython3",
   "version": "3.9.13"
  }
 },
 "nbformat": 4,
 "nbformat_minor": 5
}
